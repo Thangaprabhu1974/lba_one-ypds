{
 "cells": [
  {
   "cell_type": "markdown",
   "id": "2c8f47d3",
   "metadata": {
    "id": "2c8f47d3"
   },
   "source": [
    "# Lab Session"
   ]
  },
  {
   "cell_type": "markdown",
   "id": "f637aba6",
   "metadata": {
    "id": "f637aba6"
   },
   "source": [
    "## <font color='blue'> Table Of Contents </font>\n",
    "- Problem Statement \n",
    "- Load required libraries\n",
    "- Connect to DB using mysql-connector-python package\n",
    "- Create database named `e_commerce`\n",
    "- Create tables and insert data into tables as specified in the question\n",
    "- Read all the questions and write sql queries to meet the objective "
   ]
  },
  {
   "cell_type": "markdown",
   "id": "1073fc90",
   "metadata": {
    "id": "1073fc90"
   },
   "source": [
    "## <font color='blue'> Problem Statement </font>\n",
    "###  An E-commerce website manages its data in the form of various tables.\n",
    "You need to create a Database called `e_commerce` and various tables in it. The tables needed and attributes which need to be in every table are given before hand. All you have to do is create tables with data in it and answer some of the questions that follows."
   ]
  },
  {
   "cell_type": "markdown",
   "id": "48787355",
   "metadata": {
    "id": "48787355"
   },
   "source": [
    "### e_commerce Schema:"
   ]
  },
  {
   "cell_type": "markdown",
   "id": "78938fbc",
   "metadata": {
    "id": "78938fbc"
   },
   "source": [
    "![e_commerce%20_schema.png](attachment:e_commerce%20_schema.png)"
   ]
  },
  {
   "cell_type": "markdown",
   "id": "d9abe6c7",
   "metadata": {
    "id": "d9abe6c7"
   },
   "source": [
    "### Load Required Libraries"
   ]
  },
  {
   "cell_type": "code",
   "execution_count": 1,
   "id": "0178d08e",
   "metadata": {
    "id": "0178d08e"
   },
   "outputs": [],
   "source": [
    "import mysql.connector\n",
    "from mysql.connector import Error\n",
    "import pandas as pd"
   ]
  },
  {
   "cell_type": "markdown",
   "id": "d7d7fd5c",
   "metadata": {
    "id": "d7d7fd5c"
   },
   "source": [
    "### Connect to DB using Mysql-connector-python package"
   ]
  },
  {
   "cell_type": "code",
   "execution_count": 2,
   "id": "ef7bef72",
   "metadata": {
    "id": "ef7bef72"
   },
   "outputs": [
    {
     "name": "stdout",
     "output_type": "stream",
     "text": [
      "Database connection established\n"
     ]
    }
   ],
   "source": [
    "try:\n",
    "    db=mysql.connector.connect(\n",
    "        host=\"localhost\",\n",
    "        user=\"root\",\n",
    "        passwd=\"Varu@2022\"\n",
    "        )\n",
    "    print(\"Database connection established\")\n",
    "\n",
    "except Error as err:\n",
    "    print(f\"Error:'{err}'\")\n",
    "\n",
    "finally:\n",
    "    db.close()"
   ]
  },
  {
   "cell_type": "markdown",
   "id": "9d55e510",
   "metadata": {
    "id": "9d55e510"
   },
   "source": [
    "### You are required to create a database named 'e_commerce'"
   ]
  },
  {
   "cell_type": "code",
   "execution_count": 6,
   "id": "42a154f2",
   "metadata": {
    "id": "42a154f2"
   },
   "outputs": [
    {
     "name": "stdout",
     "output_type": "stream",
     "text": [
      "MySQL Database connection successful\n",
      "MySQL Database created successfully\n"
     ]
    }
   ],
   "source": [
    "import mysql.connector\n",
    "\n",
    "try:\n",
    "    db = mysql.connector.connect(\n",
    "        host=\"localhost\",\n",
    "        user=\"root\",\n",
    "        passwd=\"Varu@2022\"\n",
    "    )\n",
    "    print(\"MySQL Database connection successful\")\n",
    "    \n",
    "    myCursor = db.cursor()\n",
    "    myCursor.execute(\"CREATE DATABASE e_commerce20\")\n",
    "    print(\"MySQL Database created successfully\")\n",
    "\n",
    "except mysql.connector.Error as err:\n",
    "    print(f\"Error: '{err}'\")\n",
    "\n",
    "finally:\n",
    "    db.close()\n"
   ]
  },
  {
   "cell_type": "markdown",
   "id": "480dc986",
   "metadata": {
    "id": "480dc986"
   },
   "source": [
    "### Q1. Create tables for supplier, customer, category, product, productDetails, order, rating to store the data for the E-commerce with the schema definition given below.\n",
    "\n",
    "\n",
    "- **`supplier`**(SUPP_ID int primary key, SUPP_NAME varchar(50), SUPP_CITY varchar(50), SUPP_PHONE varchar(10))\n",
    "\n",
    "\n",
    "- **`customer`** (CUS_ID INT NOT NULL, CUS_NAME VARCHAR(20) NULL DEFAULT NULL, CUS_PHONE VARCHAR(10), CUS_CITY varchar(30) ,CUS_GENDER CHAR,PRIMARY KEY (CUS_ID))\n",
    "\n",
    "\n",
    "- **`category`** (CAT_ID INT NOT NULL, CAT_NAME VARCHAR(20) NULL DEFAULT NULL,PRIMARY KEY (CAT_ID))\n",
    "\n",
    "\n",
    "- **`product`** (PRO_ID INT NOT NULL, PRO_NAME VARCHAR(20) NULL DEFAULT NULL, PRO_DESC VARCHAR(60) NULL DEFAULT NULL, CAT_ID INT NOT NULL,PRIMARY KEY (PRO_ID),FOREIGN KEY (CAT_ID) REFERENCES CATEGORY (CAT_ID))\n",
    "\n",
    "\n",
    "- **`product_details`** (PROD_ID INT NOT NULL, PRO_ID INT NOT NULL, SUPP_ID INT NOT NULL, PROD_PRICE INT NOT NULL,\n",
    "  PRIMARY KEY (PROD_ID),FOREIGN KEY (PRO_ID) REFERENCES PRODUCT (PRO_ID), FOREIGN KEY (SUPP_ID) REFERENCES SUPPLIER(SUPP_ID))\n",
    "  \n",
    "  \n",
    "- **`order`** (ORD_ID INT NOT NULL, ORD_AMOUNT INT NOT NULL, ORD_DATE DATE, CUS_ID INT NOT NULL, PROD_ID INT NOT NULL,PRIMARY KEY (ORD_ID),FOREIGN KEY (CUS_ID) REFERENCES CUSTOMER(CUS_ID),FOREIGN KEY (PROD_ID) REFERENCES PRODUCT_DETAILS(PROD_ID))\n",
    "\n",
    "\n",
    "- **`rating`** (RAT_ID INT NOT NULL, CUS_ID INT NOT NULL, SUPP_ID INT NOT NULL, RAT_RATSTARS INT NOT NULL,PRIMARY KEY (RAT_ID),FOREIGN KEY (SUPP_ID) REFERENCES SUPPLIER (SUPP_ID),FOREIGN KEY (CUS_ID) REFERENCES CUSTOMER(CUS_ID))"
   ]
  },
  {
   "cell_type": "code",
   "execution_count": 7,
   "id": "967b718f",
   "metadata": {
    "id": "967b718f"
   },
   "outputs": [
    {
     "name": "stdout",
     "output_type": "stream",
     "text": [
      "category\n",
      "customer\n",
      "order_table\n",
      "product\n",
      "product_details\n",
      "rating\n",
      "supplier\n"
     ]
    }
   ],
   "source": [
    "import mysql.connector\n",
    "\n",
    "# create connection to MySQL server\n",
    "mydb = mysql.connector.connect(\n",
    "  host=\"localhost\",\n",
    "        user=\"root\",\n",
    "        passwd=\"Varu@2022\",\n",
    "  database=\"e_commerce20\"\n",
    ")\n",
    "\n",
    "# create cursor object to execute SQL queries\n",
    "mycursor = mydb.cursor()\n",
    "\n",
    "# create supplier table\n",
    "mycursor.execute(\"CREATE TABLE supplier (SUPP_ID INT PRIMARY KEY, SUPP_NAME VARCHAR(50), SUPP_CITY VARCHAR(50), SUPP_PHONE VARCHAR(10))\")\n",
    "\n",
    "# create customer table\n",
    "mycursor.execute(\"CREATE TABLE customer (CUS_ID INT NOT NULL, CUS_NAME VARCHAR(20) NULL DEFAULT NULL, CUS_PHONE VARCHAR(10), CUS_CITY VARCHAR(30), CUS_GENDER CHAR, PRIMARY KEY (CUS_ID))\")\n",
    "\n",
    "# create category table\n",
    "mycursor.execute(\"CREATE TABLE category (CAT_ID INT NOT NULL, CAT_NAME VARCHAR(20) NULL DEFAULT NULL, PRIMARY KEY (CAT_ID))\")\n",
    "\n",
    "# create product table\n",
    "mycursor.execute(\"CREATE TABLE product (PRO_ID INT NOT NULL, PRO_NAME VARCHAR(20) NULL DEFAULT NULL, PRO_DESC VARCHAR(60) NULL DEFAULT NULL, CAT_ID INT NOT NULL, PRIMARY KEY (PRO_ID), FOREIGN KEY (CAT_ID) REFERENCES category (CAT_ID))\")\n",
    "\n",
    "# create product_details table\n",
    "mycursor.execute(\"CREATE TABLE product_details (PROD_ID INT NOT NULL AUTO_INCREMENT, PRO_ID INT NOT NULL, SUPP_ID INT NOT NULL, PROD_PRICE INT NOT NULL, PRIMARY KEY (PROD_ID), FOREIGN KEY (PRO_ID) REFERENCES product (PRO_ID), FOREIGN KEY (SUPP_ID) REFERENCES supplier (SUPP_ID))\")\n",
    "\n",
    "# create order table\n",
    "mycursor.execute(\"CREATE TABLE order_table (ORD_ID INT NOT NULL AUTO_INCREMENT, ORD_AMOUNT INT NOT NULL, ORD_DATE DATE, CUS_ID INT NOT NULL, PROD_ID INT NOT NULL, PRIMARY KEY (ORD_ID), FOREIGN KEY (CUS_ID) REFERENCES customer (CUS_ID), FOREIGN KEY (PROD_ID) REFERENCES product_details (PROD_ID))\")\n",
    "\n",
    "# create rating table\n",
    "mycursor.execute(\"CREATE TABLE rating (RAT_ID INT NOT NULL AUTO_INCREMENT, CUS_ID INT NOT NULL, SUPP_ID INT NOT NULL, RAT_RATSTARS INT NOT NULL, PRIMARY KEY (RAT_ID), FOREIGN KEY (SUPP_ID) REFERENCES supplier (SUPP_ID), FOREIGN KEY (CUS_ID) REFERENCES customer (CUS_ID))\")\n",
    "\n",
    "\n",
    "# execute the \"SHOW TABLES\" command\n",
    "mycursor.execute(\"SHOW TABLES\")\n",
    "\n",
    "# fetch all the tables\n",
    "tables = mycursor.fetchall()\n",
    "\n",
    "# print the list of tables\n",
    "for table in tables:\n",
    "  print(table[0])\n",
    "# close cursor and database connection\n",
    "mycursor.close()\n",
    "mydb.close()\n"
   ]
  },
  {
   "cell_type": "markdown",
   "id": "1f653731",
   "metadata": {
    "id": "1f653731"
   },
   "source": [
    "### Q2. Insert the following data in the table created above\n",
    "#### `Note:` If you are getting any error while inserting the data into tables, Kindly close the connection and reconnect\n",
    "\n",
    "#### Table:  supplier\n",
    "| SUPP_ID | SUPP_NAME | SUPP_CITY | SUPP_PHONE |\n",
    "| --- | --- | --- | --- | \n",
    "| 1 | Rajesh Retails | Delhi | 1234567890 |\n",
    "| 2 | Appario Ltd. | Mumbai | 258963147032 | \n",
    "| 3 | Knome products | Bangalore | 9785462315 |\n",
    "| 4 | Bansal Retails | Kochi | 8975463285 |\n",
    "| 5 | Mittal Ltd. | Lucknow | 7898456532 |"
   ]
  },
  {
   "cell_type": "code",
   "execution_count": 8,
   "id": "f6dddd07",
   "metadata": {
    "id": "f6dddd07"
   },
   "outputs": [
    {
     "name": "stdout",
     "output_type": "stream",
     "text": [
      "MySQL Database connection successful\n",
      "Data added successfully\n",
      "SUPP_ID\tSUPP_NAME\t\tSUPP_CITY\tSUPP_PHONE\n",
      "--------------------------------------------------------\n",
      "1\tRajesh Retails\tDelhi\t1234567890\n",
      "2\tAppario Ltd.\tMumbai\t2589631470\n",
      "3\tKnome products\tBangalore\t9785462315\n",
      "4\tBansal Retails\tKochi\t8975463285\n",
      "5\tMittal Ltd.\tLucknow\t7898456532\n"
     ]
    }
   ],
   "source": [
    "# insert into \"supplier\" table\n",
    "try:\n",
    "    dbl=mysql.connector.connect(\n",
    "         host=\"localhost\",\n",
    "        user=\"root\",\n",
    "        passwd=\"Varu@2022\",\n",
    "  database=\"e_commerce20\"\n",
    "        )\n",
    "    print(\"MySQL Database connection successful\")\n",
    "    \n",
    "    myCursor=dbl.cursor()\n",
    "    myCursor.execute(\"\"\"INSERT INTO e_commerce20.supplier\n",
    "        VALUES (1,'Rajesh Retails','Delhi','1234567890'),\n",
    "            (2,'Appario Ltd.','Mumbai','2589631470'),\n",
    "            (3,'Knome products','Bangalore','9785462315'),\n",
    "            (4,'Bansal Retails','Kochi','8975463285'),\n",
    "            (5,'Mittal Ltd.','Lucknow','7898456532');\"\"\")\n",
    "    dbl.commit()\n",
    "    print(\"Data added successfully\")\n",
    "    \n",
    "    # Display the data inserted with table heading\n",
    "    myCursor.execute(\"SELECT * FROM e_commerce20.supplier\")\n",
    "    rows = myCursor.fetchall()\n",
    "    print(\"SUPP_ID\\tSUPP_NAME\\t\\tSUPP_CITY\\tSUPP_PHONE\")\n",
    "    print(\"--------------------------------------------------------\")\n",
    "    for row in rows:\n",
    "        print(f\"{row[0]}\\t{row[1]}\\t{row[2]}\\t{row[3]}\")\n",
    "    \n",
    "\n",
    "except Error as err:\n",
    "    print(f\"Error:'{err}'\")\n",
    "\n",
    "finally:\n",
    "    myCursor.close()\n",
    "    dbl.close()\n",
    "\n"
   ]
  },
  {
   "cell_type": "markdown",
   "id": "e8a070a6",
   "metadata": {
    "id": "e8a070a6"
   },
   "source": [
    "#### Table:  customer\n",
    "| CUS_ID | CUS_NAME | SUPP_PHONE | CUS_CITY | CUS_GENDER\n",
    "| --- | --- | --- | --- | --- |\n",
    "| 1 | AAKASH | 9999999999 | DELHI | M |\n",
    "| 2 | AMAN | 9785463215 | NOIDA | M |\n",
    "| 3 | NEHA | 9999999998 | MUMBAI | F |\n",
    "| 4 | MEGHA | 9994562399 | KOLKATA | F |\n",
    "| 5 | PULKIT | 7895999999 | LUCKNOW | M |"
   ]
  },
  {
   "cell_type": "code",
   "execution_count": 9,
   "id": "15a4ee87",
   "metadata": {
    "id": "15a4ee87"
   },
   "outputs": [
    {
     "name": "stdout",
     "output_type": "stream",
     "text": [
      "MySQL Database connection successful\n",
      "Data added successfully\n",
      "\n",
      "------- Customer Table -------\n",
      "\n",
      "CUS_ID\tCUS_NAME\tCUS_PHONE\tCUS_CITY\t\tCUS_GENDER\n",
      "1 \t AAKASH \t\t 9999999999 \t DELHI \t\t M\n",
      "2 \t AMAN \t\t 9785463215 \t NOIDA \t\t M\n",
      "3 \t NEHA \t\t 9999999998 \t MUMBAI \t\t F\n",
      "4 \t MEGHA \t\t 9994562399 \t KOLKATA \t\t F\n",
      "5 \t PULKIT \t\t 7895999999 \t LUCKNOW \t\t M\n"
     ]
    }
   ],
   "source": [
    "# insert into \"customer\" table\n",
    "import mysql.connector\n",
    "\n",
    "try:\n",
    "    dbl = mysql.connector.connect(\n",
    "        host=\"localhost\",\n",
    "        user=\"root\",\n",
    "        passwd=\"Varu@2022\",\n",
    "  database=\"e_commerce20\"\n",
    "    )\n",
    "    print(\"MySQL Database connection successful\")\n",
    "\n",
    "    myCursor = dbl.cursor()\n",
    "    myCursor.execute(\"\"\"INSERT INTO e_commerce20.customer \n",
    "        VALUES (1,'AAKASH','9999999999','DELHI','M'),\n",
    "            (2,'AMAN','9785463215','NOIDA','M'),\n",
    "            (3,'NEHA','9999999998','MUMBAI','F'),\n",
    "            (4,'MEGHA','9994562399','KOLKATA','F'),\n",
    "            (5,'PULKIT','7895999999','LUCKNOW','M');\"\"\")\n",
    "    dbl.commit()\n",
    "    print(\"Data added successfully\")\n",
    "    \n",
    "    myCursor.execute(\"SELECT * FROM e_commerce20.customer\")\n",
    "    rows = myCursor.fetchall()\n",
    "\n",
    "    print(\"\\n------- Customer Table -------\\n\")\n",
    "    print(\"CUS_ID\\tCUS_NAME\\tCUS_PHONE\\tCUS_CITY\\t\\tCUS_GENDER\")\n",
    "    for row in rows:\n",
    "        print(row[0], \"\\t\", row[1], \"\\t\\t\", row[2], \"\\t\", row[3], \"\\t\\t\", row[4])\n",
    "\n",
    "except mysql.connector.Error as err:\n",
    "    print(f\"Error: '{err}'\")\n",
    "\n",
    "finally:\n",
    "    myCursor.close()\n",
    "    dbl.close()\n",
    "\n"
   ]
  },
  {
   "cell_type": "markdown",
   "id": "b68bfbc2",
   "metadata": {
    "id": "b68bfbc2"
   },
   "source": [
    "#### Table:  category\n",
    "| CAT_ID | CAT_NAME | \n",
    "| --- | --- |  \n",
    "| 1 | BOOKS |\n",
    "| 2 | GAMES |  \n",
    "| 3 | GROCERIES | \n",
    "| 4 | ELECTRONICS | \n",
    "| 5 | CLOTHES | "
   ]
  },
  {
   "cell_type": "code",
   "execution_count": 10,
   "id": "05a00abc",
   "metadata": {
    "id": "05a00abc"
   },
   "outputs": [
    {
     "name": "stdout",
     "output_type": "stream",
     "text": [
      "MySQL Database connection successful\n",
      "Data added successfully\n",
      "Data inserted into the 'category' table:\n",
      "(1, 'BOOKS')\n",
      "(2, 'GAMES')\n",
      "(3, 'GROCERIES')\n",
      "(4, 'ELECTRONICS')\n",
      "(5, 'CLOTHES')\n"
     ]
    }
   ],
   "source": [
    "# insert into \"categoty\" table\n",
    "try:\n",
    "    dbl=mysql.connector.connect(\n",
    "       host=\"localhost\",\n",
    "        user=\"root\",\n",
    "        passwd=\"Varu@2022\",\n",
    "  database=\"e_commerce20\"\n",
    "    )\n",
    "    print(\"MySQL Database connection successful\")\n",
    "\n",
    "    myCursor=dbl.cursor()\n",
    "    myCursor.execute(\"\"\"INSERT INTO e_commerce20.category \n",
    "        VALUES (1,'BOOKS'),\n",
    "            (2,'GAMES'),\n",
    "            (3,'GROCERIES'),\n",
    "            (4,'ELECTRONICS'),\n",
    "            (5,'CLOTHES');\"\"\")\n",
    "    dbl.commit()\n",
    "    print(\"Data added successfully\")\n",
    "\n",
    "    # Retrieve the data inserted into the table\n",
    "    myCursor.execute(\"SELECT * FROM e_commerce20.category;\")\n",
    "    records = myCursor.fetchall()\n",
    "    print(\"Data inserted into the 'category' table:\")\n",
    "    for record in records:\n",
    "        print(record)\n",
    "\n",
    "except Error as err:\n",
    "    print(f\"Error: '{err}'\")\n",
    "\n",
    "finally:\n",
    "    myCursor.close()\n",
    "    dbl.close()\n"
   ]
  },
  {
   "cell_type": "markdown",
   "id": "eb3bc592",
   "metadata": {
    "id": "eb3bc592"
   },
   "source": [
    "#### Table:  product\n",
    "| PRO_ID | PRO_NAME | PRO_DESC | CAT_ID |\n",
    "| --- | --- | --- | --- | \n",
    "| 1 | GTA V | DFJDJFDJFDJFDJFJF | 2 |\n",
    "| 2 | TSHIRT | DFDFJDFJDKFD | 5 | \n",
    "| 3 | ROG LAPTOP | DFNTTNTNTERND | 4 |\n",
    "| 4 | OATS | REURENTBTOTH | 3 |\n",
    "| 5 | HARRY POTTER | NBEMCTHTJTH | 1 |\n"
   ]
  },
  {
   "cell_type": "code",
   "execution_count": 11,
   "id": "cdfbdfad",
   "metadata": {
    "id": "cdfbdfad"
   },
   "outputs": [
    {
     "name": "stdout",
     "output_type": "stream",
     "text": [
      "MySQL Database connection successful\n",
      "Data added successfully\n",
      "(1, 'GTA V', 'DFJDJFDJFDJFDJFJF', 2)\n",
      "(2, 'TSHIRT', 'DFDFJDFJDKFD', 5)\n",
      "(3, 'ROG LAPTOP', 'DFNTTNTNTERND', 4)\n",
      "(4, 'OATS', 'REURENTBTOTH', 3)\n",
      "(5, 'HARRY POTTER', 'NBEMCTHTJTH', 1)\n"
     ]
    }
   ],
   "source": [
    "# insert into \"product\" table\n",
    "\n",
    "try:\n",
    "    dbl = mysql.connector.connect(\n",
    "         host=\"localhost\",\n",
    "        user=\"root\",\n",
    "        passwd=\"Varu@2022\",\n",
    "  database=\"e_commerce20\"\n",
    "    )\n",
    "    print(\"MySQL Database connection successful\")\n",
    "    \n",
    "    myCursor = dbl.cursor()\n",
    "    myCursor.execute(\"\"\"INSERT INTO e_commerce20.product \n",
    "        VALUES (1,'GTA V','DFJDJFDJFDJFDJFJF',2),\n",
    "            (2,'TSHIRT','DFDFJDFJDKFD',5),\n",
    "            (3,'ROG LAPTOP','DFNTTNTNTERND',4),\n",
    "            (4,'OATS','REURENTBTOTH',3),\n",
    "            (5,'HARRY POTTER','NBEMCTHTJTH',1);\"\"\")\n",
    "    dbl.commit()\n",
    "    print(\"Data added successfully\")\n",
    "\n",
    "    # Fetch the inserted data and display it\n",
    "    myCursor.execute(\"SELECT * FROM e_commerce20.product\")\n",
    "    rows = myCursor.fetchall()\n",
    "    for row in rows:\n",
    "        print(row)\n",
    "\n",
    "except Error as err:\n",
    "    print(f\"Error:'{err}'\")\n",
    "\n",
    "finally:\n",
    "    myCursor.close()\n",
    "    dbl.close()\n",
    "\n"
   ]
  },
  {
   "cell_type": "markdown",
   "id": "cfa8a47d",
   "metadata": {
    "id": "cfa8a47d"
   },
   "source": [
    "#### Table:  product_details\n",
    "| PROD_ID | PRO_ID | SUPP_ID | PROD_PRICE |\n",
    "| --- | --- | --- | --- | \n",
    "| 1 | 1 | 2 | 1500 |\n",
    "| 2 | 3 | 5 | 30000 | \n",
    "| 3 | 5 | 1 | 3000 |\n",
    "| 4 | 2 | 3 | 2500 |\n",
    "| 5 | 4 | 1 | 1000 |"
   ]
  },
  {
   "cell_type": "code",
   "execution_count": 12,
   "id": "c18ea964",
   "metadata": {
    "id": "c18ea964"
   },
   "outputs": [
    {
     "name": "stdout",
     "output_type": "stream",
     "text": [
      "MySQL Database connection successful\n",
      "Data added successfully\n",
      "Inserted data:\n",
      "(1, 1, 2, 1500)\n",
      "(2, 3, 5, 30000)\n",
      "(3, 5, 1, 3000)\n",
      "(4, 2, 3, 2500)\n",
      "(5, 4, 1, 1000)\n",
      "Database connection closed.\n"
     ]
    }
   ],
   "source": [
    "# insert into \"product_details\" table\n",
    "try:\n",
    "    dbl = mysql.connector.connect(\n",
    "        host=\"localhost\",\n",
    "        user=\"root\",\n",
    "        passwd=\"Varu@2022\",\n",
    "  database=\"e_commerce20\"\n",
    "    )\n",
    "    print(\"MySQL Database connection successful\")\n",
    "\n",
    "    myCursor = dbl.cursor()\n",
    "    myCursor.execute(\"\"\"INSERT INTO e_commerce20.product_details \n",
    "        VALUES (1,1,2,1500),\n",
    "            (2,3,5,30000),\n",
    "            (3,5,1,3000),\n",
    "            (4,2,3,2500),\n",
    "            (5,4,1,1000);\"\"\")\n",
    "    dbl.commit()\n",
    "    print(\"Data added successfully\")\n",
    "\n",
    "    # Display the inserted data\n",
    "    myCursor.execute(\"SELECT * FROM e_commerce20.product_details\")\n",
    "    rows = myCursor.fetchall()\n",
    "    print(\"Inserted data:\")\n",
    "    for row in rows:\n",
    "        print(row)\n",
    "\n",
    "except mysql.connector.Error as err:\n",
    "    print(f\"Error: {err}\")\n",
    "\n",
    "finally:\n",
    "    if dbl.is_connected():\n",
    "        myCursor.close()\n",
    "        dbl.close()\n",
    "        print(\"Database connection closed.\")\n",
    "\n"
   ]
  },
  {
   "cell_type": "markdown",
   "id": "1df49086",
   "metadata": {
    "id": "1df49086"
   },
   "source": [
    "#### Table:  orders\n",
    "| ORD_ID | ORD_AMOUNT | ORD_DATE | CUS_ID | PROD_ID\n",
    "| --- | --- | --- | --- | --- |\n",
    "| 20 | 1500 | 2021-10-12 | 3 | 5 |\n",
    "| 25 | 30500 | 2021-09-16 | 5 | 2 |\n",
    "| 26 | 2000 | 2021-10-05 | 1 | 1 |\n",
    "| 30 | 3500 | 2021-08-16 | 4 | 3 |\n",
    "| 50 | 2000 | 2021-10-06 | 2 | 1 |"
   ]
  },
  {
   "cell_type": "code",
   "execution_count": 14,
   "id": "0d97dc92",
   "metadata": {
    "id": "0d97dc92"
   },
   "outputs": [
    {
     "name": "stdout",
     "output_type": "stream",
     "text": [
      "MySQL Database connection successful\n",
      "Data added successfully\n",
      "(20, 1500, datetime.date(2021, 10, 12), 3, 5)\n",
      "(25, 30500, datetime.date(2021, 9, 16), 5, 2)\n",
      "(26, 2000, datetime.date(2021, 10, 5), 1, 1)\n",
      "(30, 3500, datetime.date(2021, 8, 16), 4, 3)\n",
      "(50, 2000, datetime.date(2021, 10, 6), 2, 1)\n"
     ]
    }
   ],
   "source": [
    "try:\n",
    "    dbl = mysql.connector.connect(\n",
    "        host=\"localhost\",\n",
    "        user=\"root\",\n",
    "        passwd=\"Varu@2022\",\n",
    "  database=\"e_commerce20\"\n",
    "    )\n",
    "    print(\"MySQL Database connection successful\")\n",
    "    \n",
    "    myCursor = dbl.cursor()\n",
    "    myCursor.execute(\"\"\"INSERT INTO e_commerce20.order_table \n",
    "        VALUES (20,1500,'2021-10-12',3,5),\n",
    "            (25,30500,'2021-09-16',5,2),\n",
    "            (26,2000,'2021-10-05',1,1),\n",
    "            (30,3500,'2021-08-16',4,3),\n",
    "            (50,2000,'2021-10-06',2,1);\"\"\")\n",
    "    dbl.commit()\n",
    "    print(\"Data added successfully\")\n",
    "    \n",
    "    myCursor.execute(\"SELECT * FROM e_commerce20.order_table\")\n",
    "    result = myCursor.fetchall()\n",
    "    for row in result:\n",
    "        print(row)\n",
    "\n",
    "except Error as err:\n",
    "    print(f\"Error:'{err}'\")\n",
    "\n",
    "finally:\n",
    "    myCursor.close()\n",
    "    dbl.close()\n"
   ]
  },
  {
   "cell_type": "markdown",
   "id": "75b8ce5f",
   "metadata": {
    "id": "75b8ce5f"
   },
   "source": [
    "#### Table: rating\n",
    "| RAT_ID | CUS_ID | SUPP_ID | RAT_RATSTARS |\n",
    "| --- | --- | --- | --- | \n",
    "| 1 | 2 | 2 | 4 |\n",
    "| 2 | 3 | 4 | 3 | \n",
    "| 3 | 5 | 1 | 5 |\n",
    "| 4 | 1 | 3 | 2 |\n",
    "| 5 | 4 | 5 | 4 |"
   ]
  },
  {
   "cell_type": "code",
   "execution_count": 15,
   "id": "6d5f1e18",
   "metadata": {
    "id": "6d5f1e18"
   },
   "outputs": [
    {
     "name": "stdout",
     "output_type": "stream",
     "text": [
      "MySQL Database connection successful\n",
      "Data added successfully\n",
      "(1, 2, 2, 4)\n",
      "(2, 3, 4, 3)\n",
      "(3, 5, 1, 5)\n",
      "(4, 1, 3, 2)\n",
      "(5, 4, 5, 4)\n"
     ]
    }
   ],
   "source": [
    "# insert into \"rating\" table\n",
    "\n",
    "try:\n",
    "    dbl = mysql.connector.connect(\n",
    "       host=\"localhost\",\n",
    "        user=\"root\",\n",
    "        passwd=\"Varu@2022\",\n",
    "  database=\"e_commerce20\"\n",
    "    )\n",
    "    print(\"MySQL Database connection successful\")\n",
    "\n",
    "    myCursor = dbl.cursor()\n",
    "    myCursor.execute(\"\"\"INSERT INTO e_commerce20.rating \n",
    "        VALUES (1,2,2,4),\n",
    "            (2,3,4,3),\n",
    "            (3,5,1,5),\n",
    "            (4,1,3,2),\n",
    "            (5,4,5,4);\"\"\")\n",
    "    dbl.commit()\n",
    "    print(\"Data added successfully\")\n",
    "\n",
    "    # Displaying the inserted data\n",
    "    myCursor.execute(\"SELECT * FROM e_commerce20.rating\")\n",
    "    rows = myCursor.fetchall()\n",
    "    for row in rows:\n",
    "        print(row)\n",
    "\n",
    "except Error as err:\n",
    "    print(f\"Error:'{err}'\")\n",
    "\n",
    "finally:\n",
    "    myCursor.close()\n",
    "    dbl.close()\n",
    "\n"
   ]
  },
  {
   "cell_type": "markdown",
   "id": "b59361c3",
   "metadata": {
    "id": "b59361c3"
   },
   "source": [
    "### Q3) Display the number of the customer group by their genders who have placed any order of amount greater than or equal to Rs.3000."
   ]
  },
  {
   "cell_type": "code",
   "execution_count": 16,
   "id": "fcafaf3c",
   "metadata": {
    "id": "fcafaf3c"
   },
   "outputs": [
    {
     "name": "stdout",
     "output_type": "stream",
     "text": [
      "MySQL Database connection successful\n",
      "('Male', 1)\n",
      "('Female', 1)\n"
     ]
    }
   ],
   "source": [
    "try:\n",
    "    dbl = mysql.connector.connect(\n",
    "        host=\"localhost\",\n",
    "        user=\"root\",\n",
    "        passwd=\"Varu@2022\",\n",
    "  database=\"e_commerce20\"\n",
    "    )\n",
    "    print(\"MySQL Database connection successful\")\n",
    "\n",
    "    myCursor = dbl.cursor()\n",
    "    myCursor.execute(\"\"\"\n",
    "        SELECT \n",
    "            CASE \n",
    "                WHEN C.CUS_GENDER = 'M' THEN 'Male' \n",
    "                ELSE 'Female' \n",
    "            END AS 'Gender',\n",
    "            COUNT(*) AS 'Count'\n",
    "        FROM \n",
    "            e_commerce20.order_table O \n",
    "            JOIN e_commerce20.customer C \n",
    "                ON O.CUS_ID = C.CUS_ID \n",
    "        WHERE \n",
    "            O.ORD_AMOUNT >= 3000 \n",
    "        GROUP BY \n",
    "            C.CUS_GENDER;\n",
    "    \"\"\")\n",
    "\n",
    "    results = myCursor.fetchall()\n",
    "    for result in results:\n",
    "        print(result)\n",
    "\n",
    "except Error as err:\n",
    "    print(f\"Error: '{err}'\")\n",
    "\n",
    "finally:\n",
    "    myCursor.close()\n",
    "    dbl.close()\n"
   ]
  },
  {
   "cell_type": "markdown",
   "id": "e49e04f5",
   "metadata": {
    "id": "e49e04f5"
   },
   "source": [
    "### Q4) Display all the order along with product name ordered by a customer having Customer_Id=2;"
   ]
  },
  {
   "cell_type": "code",
   "execution_count": 18,
   "id": "9dcb7883",
   "metadata": {
    "id": "9dcb7883"
   },
   "outputs": [
    {
     "name": "stdout",
     "output_type": "stream",
     "text": [
      "MySQL Database connection successful\n",
      "Order ID: 50\n",
      "Order Amount: 2000\n",
      "Order Date: 2021-10-06\n",
      "Product ID: 2\n",
      "Customer ID: 1\n",
      "Product Name: GTA V\n",
      "Customer Name: AMAN\n",
      "\n",
      "\n"
     ]
    }
   ],
   "source": [
    "try:\n",
    "    dbl = mysql.connector.connect(\n",
    "       host=\"localhost\",\n",
    "        user=\"root\",\n",
    "        passwd=\"Varu@2022\",\n",
    "  database=\"e_commerce20\"\n",
    "    )\n",
    "    print(\"MySQL Database connection successful\")\n",
    "\n",
    "    myCursor = dbl.cursor()\n",
    "    myCursor.execute(\"\"\"SELECT O.*, PD.PRO_ID, P.PRO_NAME, C.CUS_NAME\n",
    "        FROM e_commerce20.order_table O\n",
    "        INNER JOIN e_commerce20.product_details PD\n",
    "        ON O.PROD_ID = PD.PROD_ID\n",
    "        INNER JOIN e_commerce20.product P\n",
    "        ON PD.PRO_ID = P.PRO_ID\n",
    "        INNER JOIN e_commerce20.customer C\n",
    "        ON O.CUS_ID = C.CUS_ID\n",
    "        WHERE O.CUS_ID = 2;\"\"\")\n",
    "\n",
    "    results = myCursor.fetchall()\n",
    "    for result in results:\n",
    "        order_id, order_amount, order_date, prod_id, cus_id, pro_id, pro_name, cus_name = result\n",
    "        print(f\"Order ID: {order_id}\")\n",
    "        print(f\"Order Amount: {order_amount}\")\n",
    "        print(f\"Order Date: {order_date}\")\n",
    "        print(f\"Product ID: {prod_id}\")\n",
    "        print(f\"Customer ID: {cus_id}\")\n",
    "        print(f\"Product Name: {pro_name}\")\n",
    "        print(f\"Customer Name: {cus_name}\")\n",
    "        print(\"\\n\")\n",
    "\n",
    "except Error as err:\n",
    "    print(f\"Error: '{err}'\")\n",
    "\n",
    "finally:\n",
    "    myCursor.close()\n",
    "    dbl.close()\n"
   ]
  },
  {
   "cell_type": "markdown",
   "id": "3a33398e",
   "metadata": {
    "id": "3a33398e"
   },
   "source": [
    "### Q5) Display the Supplier details who can supply more than one product."
   ]
  },
  {
   "cell_type": "code",
   "execution_count": 19,
   "id": "e933b979",
   "metadata": {
    "id": "e933b979"
   },
   "outputs": [
    {
     "name": "stdout",
     "output_type": "stream",
     "text": [
      "MySQL Database connection successful\n",
      "(1, 'Rajesh Retails', 'Delhi', '1234567890')\n"
     ]
    }
   ],
   "source": [
    "try:\n",
    "    dbl = mysql.connector.connect(\n",
    "        host=\"localhost\",\n",
    "        user=\"root\",\n",
    "        passwd=\"Varu@2022\",\n",
    "  database=\"e_commerce20\"\n",
    "    )\n",
    "    print(\"MySQL Database connection successful\")\n",
    "    \n",
    "    myCursor = dbl.cursor()\n",
    "    myCursor.execute(\"\"\"SELECT * FROM e_commerce20.supplier\n",
    "        WHERE SUPP_ID IN (\n",
    "        SELECT SUPP_ID FROM e_commerce20.product_details \n",
    "        GROUP BY SUPP_ID\n",
    "        HAVING COUNT(PROD_ID) > 1);\"\"\")\n",
    "    \n",
    "    results = myCursor.fetchall()\n",
    "    for result in results:\n",
    "        print(result)\n",
    "    \n",
    "except mysql.connector.Error as err:\n",
    "    print(f\"Error: {err}\")\n",
    "\n",
    "finally:\n",
    "    myCursor.close()\n",
    "    dbl.close()\n"
   ]
  },
  {
   "cell_type": "markdown",
   "id": "5fd319ef",
   "metadata": {
    "id": "5fd319ef"
   },
   "source": [
    "### Q6) Find the category of the product whose order amount is minimum."
   ]
  },
  {
   "cell_type": "code",
   "execution_count": 24,
   "id": "06f5cb51",
   "metadata": {
    "id": "06f5cb51"
   },
   "outputs": [
    {
     "name": "stdout",
     "output_type": "stream",
     "text": [
      "MySQL Database connection successful\n",
      "('GROCERIES',)\n"
     ]
    }
   ],
   "source": [
    "try:\n",
    "    dbl=mysql.connector.connect(\n",
    "        host=\"localhost\",\n",
    "        user=\"root\",\n",
    "        passwd=\"Varu@2022\",\n",
    "        database=\"e_commerce20\"\n",
    "    )\n",
    "    print(\"MySQL Database connection successful\")\n",
    "    \n",
    "    myCursor=dbl.cursor()\n",
    "    myCursor.execute(\"\"\"SELECT CAT_NAME FROM e_commerce20.category\n",
    "        WHERE CAT_ID IN (\n",
    "        SELECT CAT_ID FROM e_commerce20.product\n",
    "        WHERE PRO_ID IN (\n",
    "        SELECT PRO_ID FROM e_commerce20.product_details\n",
    "        WHERE PROD_ID IN (\n",
    "        SELECT PROD_ID FROM e_commerce20.order_table\n",
    "        WHERE ORD_AMOUNT IN (SELECT MIN(ORD_AMOUNT) FROM e_commerce20.order_table))));\"\"\")\n",
    "    \n",
    "    results=myCursor.fetchall()\n",
    "    for result in results:\n",
    "        print(result)\n",
    "    \n",
    "\n",
    "except Error as err:\n",
    "    print(f\"Error:'{err}'\")\n",
    "\n",
    "finally:\n",
    "    myCursor.close()\n",
    "    dbl.close()\n"
   ]
  },
  {
   "cell_type": "markdown",
   "id": "107102d4",
   "metadata": {
    "id": "107102d4"
   },
   "source": [
    "### Q7) Display the Id and Name of the Product ordered after “2021-10-05”."
   ]
  },
  {
   "cell_type": "code",
   "execution_count": 25,
   "id": "5d3fc7e8",
   "metadata": {
    "id": "5d3fc7e8"
   },
   "outputs": [
    {
     "name": "stdout",
     "output_type": "stream",
     "text": [
      "MySQL Database connection successful\n",
      "(4, 'OATS')\n",
      "(1, 'GTA V')\n"
     ]
    }
   ],
   "source": [
    "try:\n",
    "    dbl = mysql.connector.connect(\n",
    "        host=\"localhost\",\n",
    "        user=\"root\",\n",
    "        passwd=\"Varu@2022\",\n",
    "        database=\"e_commerce20\"\n",
    "    )\n",
    "    print(\"MySQL Database connection successful\")\n",
    "\n",
    "    myCursor = dbl.cursor()\n",
    "    myCursor.execute(\"\"\"SELECT PRO_ID,PRO_NAME FROM e_commerce20.product\n",
    "        WHERE PRO_ID IN (\n",
    "        SELECT PRO_ID FROM e_commerce20.product_details\n",
    "        WHERE PROD_ID IN (\n",
    "        SELECT PROD_ID FROM e_commerce20.order_table\n",
    "        WHERE ORD_DATE > '2021-10-05'));\"\"\")\n",
    "\n",
    "    results = myCursor.fetchall()\n",
    "    for result in results:\n",
    "        print(result)\n",
    "\n",
    "except Error as err:\n",
    "    print(f\"Error:'{err}'\")\n",
    "\n",
    "finally:\n",
    "    myCursor.close()\n",
    "    dbl.close()\n"
   ]
  },
  {
   "cell_type": "markdown",
   "id": "bdce7167",
   "metadata": {
    "id": "bdce7167"
   },
   "source": [
    "### Q8) Print the top 3 supplier name and id and rating on the basis of their rating along with the customer name who has given the rating."
   ]
  },
  {
   "cell_type": "code",
   "execution_count": 26,
   "id": "fa0cbe44",
   "metadata": {
    "id": "fa0cbe44"
   },
   "outputs": [
    {
     "name": "stdout",
     "output_type": "stream",
     "text": [
      "MySQL Database connection successful\n",
      "SUPP_ID\tSUPP_NAME\tRAT_RATSTARS\tCUS_NAME\n",
      "1\tRajesh Retails\t5\tPULKIT\n",
      "2\tAppario Ltd.\t4\tAMAN\n",
      "5\tMittal Ltd.\t4\tMEGHA\n"
     ]
    }
   ],
   "source": [
    "try:\n",
    "    dbl=mysql.connector.connect(\n",
    "         host=\"localhost\",\n",
    "        user=\"root\",\n",
    "        passwd=\"Varu@2022\",\n",
    "        database=\"e_commerce20\"\n",
    "        )\n",
    "    print(\"MySQL Database connection successful\")\n",
    "    \n",
    "    myCursor=dbl.cursor()\n",
    "    myCursor.execute(\"\"\"SELECT T2.SUPP_ID,S.SUPP_NAME,T2.RAT_RATSTARS,C.CUS_NAME\n",
    "        FROM (\n",
    "        SELECT * FROM (\n",
    "        SELECT *,ROW_NUMBER() OVER(ORDER BY RAT_RATSTARS DESC) AS ORD FROM e_commerce20.rating) T\n",
    "        WHERE T.ORD <= 3) T2\n",
    "        INNER JOIN e_commerce20.supplier S\n",
    "        ON T2.SUPP_ID=S.SUPP_ID\n",
    "        INNER JOIN e_commerce20.customer C\n",
    "        ON T2.CUS_ID=C.CUS_ID;\"\"\")\n",
    "    \n",
    "    # Get column headers\n",
    "    headers = [col[0] for col in myCursor.description]\n",
    "    \n",
    "    results=myCursor.fetchall()\n",
    "    \n",
    "    # Print headers\n",
    "    print(\"\\t\".join(headers))\n",
    "    \n",
    "    # Print results\n",
    "    for result in results:\n",
    "        print(\"\\t\".join(str(val) for val in result))\n",
    "    \n",
    "except Error as err:\n",
    "    print(f\"Error:'{err}'\")\n",
    "\n",
    "finally:\n",
    "    myCursor.close()\n",
    "    dbl.close()\n"
   ]
  },
  {
   "cell_type": "markdown",
   "id": "346ec2a1",
   "metadata": {
    "id": "346ec2a1"
   },
   "source": [
    "### Q9) Display customer name and gender whose names start or end with character 'A'."
   ]
  },
  {
   "cell_type": "code",
   "execution_count": 27,
   "id": "e571b5fd",
   "metadata": {
    "id": "e571b5fd"
   },
   "outputs": [
    {
     "name": "stdout",
     "output_type": "stream",
     "text": [
      "MySQL Database connection successful\n",
      "Customer Name  | Gender\n",
      "-------------------------\n",
      "('AAKASH', 'M')\n",
      "('AMAN', 'M')\n",
      "('NEHA', 'F')\n",
      "('MEGHA', 'F')\n"
     ]
    }
   ],
   "source": [
    "try:\n",
    "    dbl=mysql.connector.connect(\n",
    "         host=\"localhost\",\n",
    "        user=\"root\",\n",
    "        passwd=\"Varu@2022\",\n",
    "        database=\"e_commerce20\"\n",
    "        )\n",
    "    print(\"MySQL Database connection successful\")\n",
    "    \n",
    "    myCursor=dbl.cursor()\n",
    "    myCursor.execute(\"\"\"SELECT CUS_NAME,CUS_GENDER\n",
    "        FROM e_commerce20.customer\n",
    "        WHERE CUS_NAME LIKE 'A%' OR CUS_NAME LIKE '%A';\"\"\")\n",
    "    \n",
    "    results=myCursor.fetchall()\n",
    "    print(\"Customer Name  | Gender\")\n",
    "    print(\"-------------------------\")\n",
    "    for result in results:\n",
    "        print(result)\n",
    "    \n",
    "\n",
    "except Error as err:\n",
    "    print(f\"Error:'{err}'\")\n",
    "\n",
    "finally:\n",
    "    myCursor.close()\n",
    "    dbl.close()\n"
   ]
  },
  {
   "cell_type": "markdown",
   "id": "d0b01f77",
   "metadata": {
    "id": "d0b01f77"
   },
   "source": [
    "### Q10) Display the total order amount of the male customers."
   ]
  },
  {
   "cell_type": "code",
   "execution_count": 28,
   "id": "c3fa76e3",
   "metadata": {
    "id": "c3fa76e3"
   },
   "outputs": [
    {
     "name": "stdout",
     "output_type": "stream",
     "text": [
      "MySQL Database connection successful\n",
      "TOTAL\n",
      "(Decimal('34500'),)\n"
     ]
    }
   ],
   "source": [
    "try:\n",
    "    dbl=mysql.connector.connect(\n",
    "        host=\"localhost\",\n",
    "        user=\"root\",\n",
    "        passwd=\"Varu@2022\",\n",
    "        database=\"e_commerce20\"\n",
    "    )\n",
    "    print(\"MySQL Database connection successful\")\n",
    "    \n",
    "    myCursor=dbl.cursor()\n",
    "    myCursor.execute(\"\"\"SELECT SUM(ORD_AMOUNT) AS TOTAL FROM (\n",
    "        SELECT O.ORD_AMOUNT,O.CUS_ID,C.CUS_GENDER\n",
    "        FROM e_commerce20.order_table O\n",
    "        INNER JOIN e_commerce20.customer C\n",
    "        ON O.CUS_ID=C.CUS_ID\n",
    "        WHERE C.CUS_GENDER='M') T;\"\"\")\n",
    "    \n",
    "    results=myCursor.fetchall()\n",
    "    print(\"TOTAL\")\n",
    "    for result in results:\n",
    "        print(result)\n",
    "    \n",
    "\n",
    "except Error as err:\n",
    "    print(f\"Error:'{err}'\")\n",
    "\n",
    "finally:\n",
    "    myCursor.close()\n",
    "    dbl.close()\n"
   ]
  },
  {
   "cell_type": "markdown",
   "id": "ff8a9971",
   "metadata": {
    "id": "ff8a9971"
   },
   "source": [
    "### Q11) Display all the Customers left outer join with  the orders"
   ]
  },
  {
   "cell_type": "code",
   "execution_count": 29,
   "id": "a340c6d6",
   "metadata": {
    "id": "a340c6d6"
   },
   "outputs": [
    {
     "name": "stdout",
     "output_type": "stream",
     "text": [
      "MySQL Database connection successful\n",
      "['CUS_ID', 'CUS_NAME', 'CUS_PHONE', 'CUS_CITY', 'CUS_GENDER', 'ORD_ID', 'ORD_AMOUNT', 'ORD_DATE', 'CUS_ID', 'PROD_ID']\n",
      "(1, 'AAKASH', '9999999999', 'DELHI', 'M', 26, 2000, datetime.date(2021, 10, 5), 1, 1)\n",
      "(2, 'AMAN', '9785463215', 'NOIDA', 'M', 50, 2000, datetime.date(2021, 10, 6), 2, 1)\n",
      "(3, 'NEHA', '9999999998', 'MUMBAI', 'F', 20, 1500, datetime.date(2021, 10, 12), 3, 5)\n",
      "(4, 'MEGHA', '9994562399', 'KOLKATA', 'F', 30, 3500, datetime.date(2021, 8, 16), 4, 3)\n",
      "(5, 'PULKIT', '7895999999', 'LUCKNOW', 'M', 25, 30500, datetime.date(2021, 9, 16), 5, 2)\n"
     ]
    }
   ],
   "source": [
    "try:\n",
    "    dbl = mysql.connector.connect(\n",
    "        host=\"localhost\",\n",
    "        user=\"root\",\n",
    "        passwd=\"Varu@2022\",\n",
    "        database=\"e_commerce20\"\n",
    "    )\n",
    "    print(\"MySQL Database connection successful\")\n",
    "\n",
    "    myCursor = dbl.cursor()\n",
    "    myCursor.execute(\"\"\"SELECT * \n",
    "        FROM e_commerce20.customer C\n",
    "        LEFT OUTER JOIN e_commerce20.order_table O\n",
    "        ON C.CUS_ID=O.CUS_ID;\"\"\")\n",
    "    \n",
    "    # Get column names and print table head\n",
    "    column_names = [desc[0] for desc in myCursor.description]\n",
    "    print(column_names)\n",
    "    \n",
    "    # Print table rows\n",
    "    results = myCursor.fetchall()\n",
    "    for result in results:\n",
    "        print(result)\n",
    "\n",
    "except Error as err:\n",
    "    print(f\"Error:'{err}'\")\n",
    "\n",
    "finally:\n",
    "    myCursor.close()\n",
    "    dbl.close()\n"
   ]
  },
  {
   "cell_type": "markdown",
   "id": "0a72afe3",
   "metadata": {
    "id": "0a72afe3"
   },
   "source": [
    "**NOTE:** Always close an open connection once you are done with the database operations"
   ]
  },
  {
   "cell_type": "markdown",
   "id": "8c88f479",
   "metadata": {
    "id": "8c88f479"
   },
   "source": [
    "## Happy Learning:)"
   ]
  }
 ],
 "metadata": {
  "colab": {
   "name": "Lab Session  -  E-Commerce.ipynb",
   "provenance": []
  },
  "kernelspec": {
   "display_name": "Python 3 (ipykernel)",
   "language": "python",
   "name": "python3"
  },
  "language_info": {
   "codemirror_mode": {
    "name": "ipython",
    "version": 3
   },
   "file_extension": ".py",
   "mimetype": "text/x-python",
   "name": "python",
   "nbconvert_exporter": "python",
   "pygments_lexer": "ipython3",
   "version": "3.11.3"
  }
 },
 "nbformat": 4,
 "nbformat_minor": 5
}
